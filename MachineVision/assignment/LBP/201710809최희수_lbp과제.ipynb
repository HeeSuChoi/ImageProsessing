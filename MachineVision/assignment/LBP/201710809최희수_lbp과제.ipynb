{
 "cells": [
  {
   "cell_type": "code",
   "execution_count": 1,
   "metadata": {},
   "outputs": [],
   "source": [
    "import numpy as np\n",
    "\n",
    "def solution(img):\n",
    "    '''\n",
    "    3×3 이미지를 입력 받아 LBP 패턴을 생성한 후 \n",
    "    10진수 값으로 반환해주는 함수 작성\n",
    "    \n",
    "    <조건 1>\n",
    "    패턴 생성 순서 = [4 3 2\n",
    "                      5 - 1\n",
    "                      6 7 8]    \n",
    "    \n",
    "    비트열은 12345678 순으로\n",
    "    \n",
    "    2^7   2^6   2^5   2^4   2^3   2^2   2^1   2^0\n",
    "     8     7     6     5     4     3     2     1\n",
    "    \n",
    "    <조건 2>\n",
    "    if neighbor_pixel > center:\n",
    "        1\n",
    "    else:\n",
    "        0\n",
    "    '''   \n",
    "    \n",
    "    \n",
    "    center = img[1][1]\n",
    "    bitArr = []\n",
    "    \n",
    "    for i in range(0,8) :\n",
    "        \n",
    "        # 이웃 픽셀 설정\n",
    "        if i == 0:\n",
    "            neighbor_pixel = img[1][2]\n",
    "        elif i == 1:\n",
    "            neighbor_pixel = img[0][2]\n",
    "        elif i == 2:\n",
    "            neighbor_pixel = img[0][1]\n",
    "        elif i == 3:\n",
    "            neighbor_pixel = img[0][0]\n",
    "        elif i == 4:\n",
    "            neighbor_pixel = img[1][0]\n",
    "        elif i == 5:\n",
    "            neighbor_pixel = img[2][0]\n",
    "        elif i == 6:\n",
    "            neighbor_pixel = img[2][1]\n",
    "        elif i == 7:\n",
    "            neighbor_pixel = img[2][2]\n",
    "        \n",
    "        # 중심 픽셀과 이웃 픽셀 값 비교\n",
    "        if neighbor_pixel > center:\n",
    "            bitArr += [1]\n",
    "        else:\n",
    "            bitArr += [0]\n",
    "    \n",
    "    out = 0\n",
    "    a = []\n",
    "    \n",
    "    # 이진수 비트열을 십진수로 반환\n",
    "    for i in range(0,8):\n",
    "        if bitArr[i] == 1:\n",
    "            a+=[2**(7-i)]\n",
    "            out+=2**(7-i)\n",
    "        else:\n",
    "            out+=0\n",
    "    print(a)\n",
    "    return out\n",
    "    "
   ]
  },
  {
   "cell_type": "code",
   "execution_count": 2,
   "metadata": {},
   "outputs": [
    {
     "name": "stdout",
     "output_type": "stream",
     "text": [
      "[128, 64, 16, 1]\n",
      "209\n",
      "[2]\n",
      "2\n"
     ]
    }
   ],
   "source": [
    "## test case 1\n",
    "img1 = np.array([[ 30,  26,  34],\n",
    "                 [ 21,  26,  28],\n",
    "                 [ 23,  22,  35]])\n",
    "out1 = solution(img1)\n",
    "print(out1)\n",
    "\n",
    "## test case 2\n",
    "img2 = np.array([[21, 20, 19],\n",
    "                 [20, 22, 20],\n",
    "                 [22, 24, 22]])\n",
    "out2 = solution(img2)\n",
    "print(out2)"
   ]
  },
  {
   "cell_type": "code",
   "execution_count": null,
   "metadata": {},
   "outputs": [],
   "source": []
  }
 ],
 "metadata": {
  "kernelspec": {
   "display_name": "Python 3",
   "language": "python",
   "name": "python3"
  },
  "language_info": {
   "codemirror_mode": {
    "name": "ipython",
    "version": 3
   },
   "file_extension": ".py",
   "mimetype": "text/x-python",
   "name": "python",
   "nbconvert_exporter": "python",
   "pygments_lexer": "ipython3",
   "version": "3.7.3"
  }
 },
 "nbformat": 4,
 "nbformat_minor": 2
}
