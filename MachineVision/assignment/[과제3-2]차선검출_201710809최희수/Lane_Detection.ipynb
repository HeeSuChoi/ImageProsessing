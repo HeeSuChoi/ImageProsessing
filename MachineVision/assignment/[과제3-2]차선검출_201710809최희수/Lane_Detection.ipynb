{
 "cells": [
  {
   "cell_type": "markdown",
   "metadata": {},
   "source": [
    "## 4) Write your own codes for Lane Detection"
   ]
  },
  {
   "cell_type": "code",
   "execution_count": 3,
   "metadata": {},
   "outputs": [],
   "source": [
    "import matplotlib.pyplot as plt\n",
    "import numpy as np\n",
    "import cv2"
   ]
  },
  {
   "cell_type": "code",
   "execution_count": 4,
   "metadata": {},
   "outputs": [],
   "source": [
    "def region_of_interest(img, vertices):\n",
    "    mask = np.zeros_like(img)\n",
    "    cv2.fillPoly(mask, vertices, 255)\n",
    "    \n",
    "    return cv2.bitwise_and(img, mask)"
   ]
  },
  {
   "cell_type": "code",
   "execution_count": 5,
   "metadata": {},
   "outputs": [],
   "source": [
    "def full_pipeline(img):\n",
    "    height, width = img.shape[:2]\n",
    "    \n",
    "    # 흑백이미지 변환\n",
    "    gray_img = cv2.cvtColor(img, cv2.COLOR_RGB2GRAY)\n",
    "    \n",
    "    # Blur\n",
    "    blur_img = cv2.GaussianBlur(gray_img, (3, 3), 0)\n",
    "    \n",
    "    # Canny edge\n",
    "    canny_img = cv2.Canny(blur_img, 70, 210)\n",
    "    \n",
    "    # 사다리꼴\n",
    "    vertices = np.array([[(50, height),\n",
    "                          (width/2-45, height/2+60), \n",
    "                          (width/2+45, height/2+60), \n",
    "                          (width-50,height)]], dtype='int')\n",
    "    # ROI 설정\n",
    "    ROI_img = region_of_interest(canny_img, vertices)\n",
    "    \n",
    "    # 허프 변환\n",
    "    lines = cv2.HoughLinesP(ROI_img, 1, 1 * np.pi/180, 30, np.array([]), minLineLength= 10, maxLineGap=20)\n",
    "    line_img = np.zeros((img.shape[0], img.shape[1], 3), dtype=np.uint8)\n",
    "    \n",
    "    for line in lines:\n",
    "        for x1,y1,x2,y2 in line:\n",
    "            cv2.line(line_img, (x1, y1), (x2, y2), [0, 0, 255], 2)\n",
    "    \n",
    "    hough_img =line_img\n",
    "    \n",
    "    # 원본 이미지에 검출된 선 overlap\n",
    "    result = cv2.addWeighted(hough_img, 1, img, 1, 0)\n",
    "    print(hough_img.size)\n",
    "    print(img.size)\n",
    "    return result"
   ]
  },
  {
   "cell_type": "code",
   "execution_count": 46,
   "metadata": {},
   "outputs": [
    {
     "name": "stdout",
     "output_type": "stream",
     "text": [
      "1555200\n",
      "1555200\n",
      "1555200\n",
      "1555200\n",
      "1555200\n",
      "1555200\n"
     ]
    }
   ],
   "source": [
    "listOfFiles = ['challenge.jpg','solidWhiteRight.jpg', 'solidYellowLeft.jpg']\n",
    "\n",
    "for i, file in enumerate(listOfFiles):\n",
    "    img = cv2.imread(file)\n",
    "    \n",
    "    result = full_pipeline(img)\n",
    "    cv2.imshow('lane detection', result)\n",
    "    cv2.waitKey(0) \n",
    "    cv2.imwrite(\"result.jpg\", result)\n",
    "cv2.destroyAllWindows()"
   ]
  },
  {
   "cell_type": "markdown",
   "metadata": {},
   "source": [
    "# ※ Further improvements"
   ]
  },
  {
   "cell_type": "code",
   "execution_count": 6,
   "metadata": {},
   "outputs": [],
   "source": [
    "def improved_pipeline(img):\n",
    "    #1) 기울기 이용\n",
    "    #2) 차선당 하나의 직선으로 표현\n",
    "    \n",
    "    height, width = img.shape[:2]\n",
    "    \n",
    "    # 흑백이미지 변환\n",
    "    gray_img = cv2.cvtColor(img, cv2.COLOR_RGB2GRAY)\n",
    "    \n",
    "    # Blur\n",
    "    blur_img = cv2.GaussianBlur(gray_img, (3, 3), 0)\n",
    "    \n",
    "    # Canny edge\n",
    "    canny_img = cv2.Canny(blur_img, 70, 210)\n",
    "    \n",
    "    # 사다리꼴\n",
    "    vertices = np.array([[(50, height),\n",
    "                          (width/2-45, height/2+60), \n",
    "                          (width/2+45, height/2+60), \n",
    "                          (width-50,height)]], dtype='int')\n",
    "    # ROI 설정\n",
    "    ROI_img = region_of_interest(canny_img, vertices)\n",
    "    \n",
    "    # 허프 변환\n",
    "    lines = cv2.HoughLinesP(ROI_img, 1, 1 * np.pi/180,  30, np.array([]), minLineLength= 10, maxLineGap=20)\n",
    "    #line_img = np.zeros(img.shape, dtype=np.uint8)\n",
    "    lines = np.squeeze(lines)\n",
    "    \n",
    "    # 기울기 구하기\n",
    "    slope_degree = (np.arctan2(lines[:,1] - lines[:,3], lines[:,0] - lines[:,2]) * 180) / np.pi\n",
    "\n",
    "    # 수평 기울기 제한\n",
    "    lines = lines[np.abs(slope_degree)<160]\n",
    "    slope_degree = slope_degree[np.abs(slope_degree)<160]\n",
    "   \n",
    "    # 수직 기울기 제한\n",
    "    lines = lines[np.abs(slope_degree)>95]\n",
    "    slope_degree = slope_degree[np.abs(slope_degree)>95]\n",
    "    \n",
    "    # 필터링된 직선 버리기\n",
    "    L_lines, R_lines = lines[(slope_degree>0),:], lines[(slope_degree<0),:]\n",
    "    temp = np.zeros((img.shape[0], img.shape[1], 3), dtype=np.uint8)\n",
    "    L_lines, R_lines = L_lines[:,None], R_lines[:,None]\n",
    "    \n",
    "    for line in L_lines:\n",
    "        for x1,y1,x2,y2 in line:\n",
    "            cv2.line(temp, (x1, y1), (x2, y2), [0, 0, 255], 2)\n",
    "    \n",
    "    for line in R_lines:\n",
    "        for x1,y1,x2,y2 in line:\n",
    "            cv2.line(temp, (x1, y1), (x2, y2), [0, 0, 255], 2)\n",
    "    \n",
    "    result = cv2.addWeighted(temp, 1, img, 1, 0)\n",
    "\n",
    "    return result"
   ]
  },
  {
   "cell_type": "code",
   "execution_count": 7,
   "metadata": {},
   "outputs": [],
   "source": [
    "def get_fitline(img, f_lines): # 대표선 구하기   \n",
    "    \n",
    "    lines = np.squeeze(f_lines)\n",
    "    lines = lines.reshape(lines.shape[0]*2,2)\n",
    "    \n",
    "    rows,cols = img.shape[:2]\n",
    "    \n",
    "    output = cv2.fitLine(lines,cv2.DIST_L2,0, 0.01, 0.01)\n",
    "    \n",
    "    vx, vy, x, y = output[0], output[1], output[2], output[3]\n",
    "    \n",
    "    x1, y1 = int(((img.shape[0]-1)-y)/vy*vx + x) , img.shape[0]-1\n",
    "    x2, y2 = int(((img.shape[0]/2+100)-y)/vy*vx + x) , int(img.shape[0]/2+100)\n",
    "    \n",
    "    result = [x1,y1,x2,y2]\n",
    "    \n",
    "    return result"
   ]
  },
  {
   "cell_type": "code",
   "execution_count": 8,
   "metadata": {},
   "outputs": [],
   "source": [
    "def improved2_pipeline(img):\n",
    "    #1) 기울기 이용\n",
    "    #2) 차선당 하나의 직선으로 표현\n",
    "    \n",
    "    height, width = img.shape[:2]\n",
    "    \n",
    "    # 흑백이미지 변환\n",
    "    gray_img = cv2.cvtColor(img, cv2.COLOR_RGB2GRAY)\n",
    "    \n",
    "    # Blur\n",
    "    blur_img = cv2.GaussianBlur(gray_img, (3, 3), 0)\n",
    "    \n",
    "    # Canny edge\n",
    "    canny_img = cv2.Canny(blur_img, 70, 210)\n",
    "    \n",
    "    # 사다리꼴\n",
    "    vertices = np.array([[(50, height),\n",
    "                          (width/2-45, height/2+6), \n",
    "                          (width/2+45, height/2+80), \n",
    "                          (width-50,height)]], dtype='int')\n",
    "    # ROI 설정\n",
    "    ROI_img = region_of_interest(canny_img, vertices)\n",
    "    \n",
    "    # 허프 변환\n",
    "    lines = cv2.HoughLinesP(ROI_img, 1, 1 * np.pi/180,  30, np.array([]), minLineLength= 10, maxLineGap=20)\n",
    "    #line_img = np.zeros(img.shape, dtype=np.uint8)\n",
    "    lines = np.squeeze(lines)\n",
    "    \n",
    "    # 기울기 구하기\n",
    "    slope_degree = (np.arctan2(lines[:,1] - lines[:,3], lines[:,0] - lines[:,2]) * 180) / np.pi\n",
    "\n",
    "    # 수평 기울기 제한\n",
    "    lines = lines[np.abs(slope_degree)<160]\n",
    "    slope_degree = slope_degree[np.abs(slope_degree)<160]\n",
    "   \n",
    "    # 수직 기울기 제한\n",
    "    lines = lines[np.abs(slope_degree)>95]\n",
    "    slope_degree = slope_degree[np.abs(slope_degree)>95]\n",
    "    \n",
    "    # 필터링된 직선 버리기\n",
    "    L_lines, R_lines = lines[(slope_degree>0),:], lines[(slope_degree<0),:]\n",
    "    temp = np.zeros((img.shape[0], img.shape[1], 3), dtype=np.uint8)\n",
    "    L_lines, R_lines = L_lines[:,None], R_lines[:,None]\n",
    "    \n",
    "    #직선 그리기\n",
    "    left_fit_line = get_fitline(img,L_lines)\n",
    "    right_fit_line = get_fitline(img,R_lines)\n",
    "            \n",
    "    cv2.line(temp, (left_fit_line[0], left_fit_line[1]), (left_fit_line[2], left_fit_line[3]), [0,0,255], 15)\n",
    "    cv2.line(temp, (right_fit_line[0], right_fit_line[1]), (right_fit_line[2], right_fit_line[3]), [0,0,255], 15)\n",
    "    \n",
    "    result = cv2.addWeighted(temp, 1, img, 1, 0)\n",
    "\n",
    "    return result"
   ]
  },
  {
   "cell_type": "code",
   "execution_count": 9,
   "metadata": {},
   "outputs": [
    {
     "ename": "ValueError",
     "evalue": "cannot reshape array of size 4 into shape (8,2)",
     "output_type": "error",
     "traceback": [
      "\u001b[1;31m---------------------------------------------------------------------------\u001b[0m",
      "\u001b[1;31mValueError\u001b[0m                                Traceback (most recent call last)",
      "\u001b[1;32m<ipython-input-9-a488a922834a>\u001b[0m in \u001b[0;36m<module>\u001b[1;34m\u001b[0m\n\u001b[0;32m      4\u001b[0m     \u001b[0mimg\u001b[0m \u001b[1;33m=\u001b[0m \u001b[0mcv2\u001b[0m\u001b[1;33m.\u001b[0m\u001b[0mimread\u001b[0m\u001b[1;33m(\u001b[0m\u001b[0mfile\u001b[0m\u001b[1;33m)\u001b[0m\u001b[1;33m\u001b[0m\u001b[1;33m\u001b[0m\u001b[0m\n\u001b[0;32m      5\u001b[0m \u001b[1;33m\u001b[0m\u001b[0m\n\u001b[1;32m----> 6\u001b[1;33m     \u001b[0mresult\u001b[0m \u001b[1;33m=\u001b[0m \u001b[0mimproved2_pipeline\u001b[0m\u001b[1;33m(\u001b[0m\u001b[0mimg\u001b[0m\u001b[1;33m)\u001b[0m\u001b[1;33m\u001b[0m\u001b[1;33m\u001b[0m\u001b[0m\n\u001b[0m\u001b[0;32m      7\u001b[0m     \u001b[0mcv2\u001b[0m\u001b[1;33m.\u001b[0m\u001b[0mimshow\u001b[0m\u001b[1;33m(\u001b[0m\u001b[1;34m'lane detection'\u001b[0m\u001b[1;33m,\u001b[0m \u001b[0mresult\u001b[0m\u001b[1;33m)\u001b[0m\u001b[1;33m\u001b[0m\u001b[1;33m\u001b[0m\u001b[0m\n\u001b[0;32m      8\u001b[0m     \u001b[0mcv2\u001b[0m\u001b[1;33m.\u001b[0m\u001b[0mwaitKey\u001b[0m\u001b[1;33m(\u001b[0m\u001b[1;36m0\u001b[0m\u001b[1;33m)\u001b[0m\u001b[1;33m\u001b[0m\u001b[1;33m\u001b[0m\u001b[0m\n",
      "\u001b[1;32m<ipython-input-8-b8e8d9890cf2>\u001b[0m in \u001b[0;36mimproved2_pipeline\u001b[1;34m(img)\u001b[0m\n\u001b[0;32m     45\u001b[0m     \u001b[1;31m#직선 그리기\u001b[0m\u001b[1;33m\u001b[0m\u001b[1;33m\u001b[0m\u001b[1;33m\u001b[0m\u001b[0m\n\u001b[0;32m     46\u001b[0m     \u001b[0mleft_fit_line\u001b[0m \u001b[1;33m=\u001b[0m \u001b[0mget_fitline\u001b[0m\u001b[1;33m(\u001b[0m\u001b[0mimg\u001b[0m\u001b[1;33m,\u001b[0m\u001b[0mL_lines\u001b[0m\u001b[1;33m)\u001b[0m\u001b[1;33m\u001b[0m\u001b[1;33m\u001b[0m\u001b[0m\n\u001b[1;32m---> 47\u001b[1;33m     \u001b[0mright_fit_line\u001b[0m \u001b[1;33m=\u001b[0m \u001b[0mget_fitline\u001b[0m\u001b[1;33m(\u001b[0m\u001b[0mimg\u001b[0m\u001b[1;33m,\u001b[0m\u001b[0mR_lines\u001b[0m\u001b[1;33m)\u001b[0m\u001b[1;33m\u001b[0m\u001b[1;33m\u001b[0m\u001b[0m\n\u001b[0m\u001b[0;32m     48\u001b[0m \u001b[1;33m\u001b[0m\u001b[0m\n\u001b[0;32m     49\u001b[0m     \u001b[0mcv2\u001b[0m\u001b[1;33m.\u001b[0m\u001b[0mline\u001b[0m\u001b[1;33m(\u001b[0m\u001b[0mtemp\u001b[0m\u001b[1;33m,\u001b[0m \u001b[1;33m(\u001b[0m\u001b[0mleft_fit_line\u001b[0m\u001b[1;33m[\u001b[0m\u001b[1;36m0\u001b[0m\u001b[1;33m]\u001b[0m\u001b[1;33m,\u001b[0m \u001b[0mleft_fit_line\u001b[0m\u001b[1;33m[\u001b[0m\u001b[1;36m1\u001b[0m\u001b[1;33m]\u001b[0m\u001b[1;33m)\u001b[0m\u001b[1;33m,\u001b[0m \u001b[1;33m(\u001b[0m\u001b[0mleft_fit_line\u001b[0m\u001b[1;33m[\u001b[0m\u001b[1;36m2\u001b[0m\u001b[1;33m]\u001b[0m\u001b[1;33m,\u001b[0m \u001b[0mleft_fit_line\u001b[0m\u001b[1;33m[\u001b[0m\u001b[1;36m3\u001b[0m\u001b[1;33m]\u001b[0m\u001b[1;33m)\u001b[0m\u001b[1;33m,\u001b[0m \u001b[1;33m[\u001b[0m\u001b[1;36m0\u001b[0m\u001b[1;33m,\u001b[0m\u001b[1;36m0\u001b[0m\u001b[1;33m,\u001b[0m\u001b[1;36m255\u001b[0m\u001b[1;33m]\u001b[0m\u001b[1;33m,\u001b[0m \u001b[1;36m15\u001b[0m\u001b[1;33m)\u001b[0m\u001b[1;33m\u001b[0m\u001b[1;33m\u001b[0m\u001b[0m\n",
      "\u001b[1;32m<ipython-input-7-57194c91d1d0>\u001b[0m in \u001b[0;36mget_fitline\u001b[1;34m(img, f_lines)\u001b[0m\n\u001b[0;32m      2\u001b[0m \u001b[1;33m\u001b[0m\u001b[0m\n\u001b[0;32m      3\u001b[0m     \u001b[0mlines\u001b[0m \u001b[1;33m=\u001b[0m \u001b[0mnp\u001b[0m\u001b[1;33m.\u001b[0m\u001b[0msqueeze\u001b[0m\u001b[1;33m(\u001b[0m\u001b[0mf_lines\u001b[0m\u001b[1;33m)\u001b[0m\u001b[1;33m\u001b[0m\u001b[1;33m\u001b[0m\u001b[0m\n\u001b[1;32m----> 4\u001b[1;33m     \u001b[0mlines\u001b[0m \u001b[1;33m=\u001b[0m \u001b[0mlines\u001b[0m\u001b[1;33m.\u001b[0m\u001b[0mreshape\u001b[0m\u001b[1;33m(\u001b[0m\u001b[0mlines\u001b[0m\u001b[1;33m.\u001b[0m\u001b[0mshape\u001b[0m\u001b[1;33m[\u001b[0m\u001b[1;36m0\u001b[0m\u001b[1;33m]\u001b[0m\u001b[1;33m*\u001b[0m\u001b[1;36m2\u001b[0m\u001b[1;33m,\u001b[0m\u001b[1;36m2\u001b[0m\u001b[1;33m)\u001b[0m\u001b[1;33m\u001b[0m\u001b[1;33m\u001b[0m\u001b[0m\n\u001b[0m\u001b[0;32m      5\u001b[0m \u001b[1;33m\u001b[0m\u001b[0m\n\u001b[0;32m      6\u001b[0m     \u001b[0mrows\u001b[0m\u001b[1;33m,\u001b[0m\u001b[0mcols\u001b[0m \u001b[1;33m=\u001b[0m \u001b[0mimg\u001b[0m\u001b[1;33m.\u001b[0m\u001b[0mshape\u001b[0m\u001b[1;33m[\u001b[0m\u001b[1;33m:\u001b[0m\u001b[1;36m2\u001b[0m\u001b[1;33m]\u001b[0m\u001b[1;33m\u001b[0m\u001b[1;33m\u001b[0m\u001b[0m\n",
      "\u001b[1;31mValueError\u001b[0m: cannot reshape array of size 4 into shape (8,2)"
     ]
    }
   ],
   "source": [
    "listOfFiles = ['solidWhiteRight.jpg', 'solidYellowLeft.jpg', 'challenge.jpg']\n",
    "\n",
    "for i, file in enumerate(listOfFiles):\n",
    "    img = cv2.imread(file)\n",
    "    \n",
    "    result = improved2_pipeline(img)\n",
    "    cv2.imshow('lane detection', result)\n",
    "    cv2.waitKey(0) \n",
    "    cv2.imwrite(\"improved_result.jpg\", result)\n",
    "cv2.destroyAllWindows()"
   ]
  },
  {
   "cell_type": "code",
   "execution_count": null,
   "metadata": {},
   "outputs": [],
   "source": []
  }
 ],
 "metadata": {
  "kernelspec": {
   "display_name": "Python 3",
   "language": "python",
   "name": "python3"
  },
  "language_info": {
   "codemirror_mode": {
    "name": "ipython",
    "version": 3
   },
   "file_extension": ".py",
   "mimetype": "text/x-python",
   "name": "python",
   "nbconvert_exporter": "python",
   "pygments_lexer": "ipython3",
   "version": "3.7.3"
  }
 },
 "nbformat": 4,
 "nbformat_minor": 2
}
